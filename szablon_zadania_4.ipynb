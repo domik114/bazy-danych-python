{
 "cells": [
  {
   "attachments": {},
   "cell_type": "markdown",
   "id": "0f8ca2b0",
   "metadata": {},
   "source": [
    "# Zadanie\n",
    "\n",
    "- To jest szablon zadania - wypełnij przed wysłaniem\n",
    "- Zadanie polega na opracowaniu bazy danych klucz wartość oraz konfiguracji środowiska (serwera redis) i przedstawieniu wykonanej bazy.\n",
    "\n",
    " 1. jakie zapytanie będzie przyśpieszane (pojedyncze rekordy)?   {ocena 3.0-3.5}\n",
    " 2. jakie zapytanie będzie przyśpieszane (kilka rekordów)?    {ocena 3.0-4.5}\n",
    " 3. jakie zapytanie będzie przyśpieszane (złożone zapytanie np.: z joinem)?    {ocena 3.0-5.0}"
   ]
  },
  {
   "attachments": {},
   "cell_type": "markdown",
   "id": "d63ad10a",
   "metadata": {},
   "source": [
    "Opis:\n",
    "-  Wykonaj bazę klucz wartość przyśpieszającą komunikację z Twoją bazę danych. Waro skorzystać z przygotowanej wcześniej bazy danych. Zastanów sie które zapytania będą najczęściej wykonywane, albo które będą wymagały dłuższego czasu ich wykonania. Dla takich zapytań napisz w notatniku metody pozwalające na przechowanie wyników zapytań w bazie redis. Opracuj rodzaj kluczy wg. których będziesz identyfikować odpowiednie dane w bazie redis.\n",
    "\n",
    " - W szablonie zadania opisz przynajmniej 3 optymalizowane zapytania,\n",
    " - oprogramuj zadanie,\n",
    " - prześlij wypełniony notatnik do naszego kursu online,\n",
    " - przedstaw działające zadanie na zajęciach laboratoryjnych,\n",
    " \n",
    "- Nazwa pliku notatnika: zad3_nazwisko_imie.ipynb "
   ]
  },
  {
   "attachments": {},
   "cell_type": "markdown",
   "id": "c960910e",
   "metadata": {},
   "source": [
    "## Opis rozwiązania (wypełnia student)\n",
    "\n",
    "1. Autor: \n",
    " - ...........................\n",
    "2. jakie zadanie będzie rozwiązywane?\n",
    " 1. ...........................\n",
    " 2. ...........................\n",
    " 3. ..........................."
   ]
  },
  {
   "cell_type": "code",
   "execution_count": null,
   "id": "21351666",
   "metadata": {},
   "outputs": [],
   "source": [
    "# niezbędne importy\n",
    "import redis\n",
    "import cx_Oracle\n",
    "# import ....."
   ]
  },
  {
   "cell_type": "code",
   "execution_count": null,
   "id": "fea38f46",
   "metadata": {},
   "outputs": [],
   "source": [
    "# połączenie z bazą sql"
   ]
  },
  {
   "cell_type": "code",
   "execution_count": null,
   "id": "109e7394",
   "metadata": {},
   "outputs": [],
   "source": [
    "# połączenie z redis"
   ]
  },
  {
   "cell_type": "code",
   "execution_count": null,
   "id": "50e68436",
   "metadata": {},
   "outputs": [],
   "source": [
    "# zadanie A\n",
    "\n"
   ]
  },
  {
   "cell_type": "code",
   "execution_count": null,
   "id": "707f7a88",
   "metadata": {},
   "outputs": [],
   "source": [
    "# zadanie B\n",
    "\n"
   ]
  },
  {
   "cell_type": "code",
   "execution_count": null,
   "id": "f0a209b7",
   "metadata": {},
   "outputs": [],
   "source": [
    "# zadanie C\n",
    "\n"
   ]
  }
 ],
 "metadata": {
  "kernelspec": {
   "display_name": "PyCharm (empty)",
   "language": "python",
   "name": "pycharm-b5c194e8"
  },
  "language_info": {
   "codemirror_mode": {
    "name": "ipython",
    "version": 3
   },
   "file_extension": ".py",
   "mimetype": "text/x-python",
   "name": "python",
   "nbconvert_exporter": "python",
   "pygments_lexer": "ipython3",
   "version": "3.9.7"
  }
 },
 "nbformat": 4,
 "nbformat_minor": 5
}
